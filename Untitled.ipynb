{
 "cells": [
  {
   "cell_type": "code",
   "execution_count": 6,
   "metadata": {},
   "outputs": [],
   "source": [
    "\n",
    "def reduksi_huruf(kata):\n",
    "#kata = 'siiiiiiapaaaa'\n",
    "    nkata  = list()\n",
    "    for i,k in enumerate(kata):\n",
    "        if i>2:\n",
    "            if kata[i]== kata[i-1] and kata[i] == kata[i-2]:\n",
    "                continue\n",
    "            else:\n",
    "                nkata.append(k)\n",
    "        else:\n",
    "            nkata.append(k)\n",
    "    return \"\".join(nkata)\n",
    "        \n",
    "    "
   ]
  },
  {
   "cell_type": "code",
   "execution_count": 7,
   "metadata": {},
   "outputs": [
    {
     "data": {
      "text/plain": [
       "'kamprett'"
      ]
     },
     "execution_count": 7,
     "metadata": {},
     "output_type": "execute_result"
    }
   ],
   "source": [
    "reduksi_huruf(\"kamprettt\")"
   ]
  }
 ],
 "metadata": {
  "kernelspec": {
   "display_name": "Python 3",
   "language": "python",
   "name": "python3"
  },
  "language_info": {
   "codemirror_mode": {
    "name": "ipython",
    "version": 3
   },
   "file_extension": ".py",
   "mimetype": "text/x-python",
   "name": "python",
   "nbconvert_exporter": "python",
   "pygments_lexer": "ipython3",
   "version": "3.7.3"
  }
 },
 "nbformat": 4,
 "nbformat_minor": 2
}
